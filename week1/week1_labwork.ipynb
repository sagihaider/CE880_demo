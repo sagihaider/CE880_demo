{
  "nbformat": 4,
  "nbformat_minor": 0,
  "metadata": {
    "colab": {
      "name": "week1_labwork.ipynb",
      "provenance": [],
      "collapsed_sections": [],
      "authorship_tag": "ABX9TyPdYSULDRa7GIXzlztTz9ul",
      "include_colab_link": true
    },
    "kernelspec": {
      "name": "python3",
      "display_name": "Python 3"
    },
    "language_info": {
      "name": "python"
    }
  },
  "cells": [
    {
      "cell_type": "markdown",
      "metadata": {
        "id": "view-in-github",
        "colab_type": "text"
      },
      "source": [
        "<a href=\"https://colab.research.google.com/github/sagihaider/CE880_demo/blob/main/week1/week1_labwork.ipynb\" target=\"_parent\"><img src=\"https://colab.research.google.com/assets/colab-badge.svg\" alt=\"Open In Colab\"/></a>"
      ]
    },
    {
      "cell_type": "code",
      "execution_count": 1,
      "metadata": {
        "colab": {
          "base_uri": "https://localhost:8080/"
        },
        "id": "so3cX8oHV8rg",
        "outputId": "4787ecfb-a7b9-44e4-efa8-e81e9c2e89f0"
      },
      "outputs": [
        {
          "output_type": "stream",
          "name": "stdout",
          "text": [
            "Hello CE880 Students\n"
          ]
        }
      ],
      "source": [
        "print(\"Hello CE880 Students\")"
      ]
    },
    {
      "cell_type": "markdown",
      "source": [
        "#This is my title \n",
        "##This is my subtitle \n",
        "here I am writing: ***Haider*** \n",
        "\n",
        "`print(\"Hello\")`"
      ],
      "metadata": {
        "id": "GB7GXzAGWVlK"
      }
    },
    {
      "cell_type": "code",
      "source": [
        ""
      ],
      "metadata": {
        "id": "G0z2sxdUWTfs"
      },
      "execution_count": null,
      "outputs": []
    },
    {
      "cell_type": "code",
      "source": [
        ""
      ],
      "metadata": {
        "id": "mu_b7iBXWUDh"
      },
      "execution_count": null,
      "outputs": []
    }
  ]
}